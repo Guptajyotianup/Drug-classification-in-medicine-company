{
 "cells": [
  {
   "cell_type": "code",
   "execution_count": null,
   "id": "31678ba0",
   "metadata": {},
   "outputs": [],
   "source": [
    "import numpy as np\n",
    "import pandas as pd\n",
    "import matplotlib.pyplot as plt\n",
    "import seaborn as sns\n",
    "import warnings\n",
    "\n",
    "\n",
    "warnings.filterwarnings('ignore')"
   ]
  },
  {
   "cell_type": "code",
   "execution_count": null,
   "id": "33f576bd",
   "metadata": {},
   "outputs": [],
   "source": [
    "data=pd.read_csv('drug200.csv')"
   ]
  },
  {
   "cell_type": "code",
   "execution_count": null,
   "id": "2201693c",
   "metadata": {},
   "outputs": [],
   "source": [
    "data"
   ]
  },
  {
   "cell_type": "code",
   "execution_count": null,
   "id": "a13b64f9",
   "metadata": {},
   "outputs": [],
   "source": [
    "data.info()"
   ]
  },
  {
   "cell_type": "code",
   "execution_count": null,
   "id": "cb7ae7fc",
   "metadata": {},
   "outputs": [],
   "source": [
    "data.tail()                                                  "
   ]
  },
  {
   "cell_type": "code",
   "execution_count": null,
   "id": "03c04bce",
   "metadata": {},
   "outputs": [],
   "source": [
    "data.describe()"
   ]
  },
  {
   "cell_type": "code",
   "execution_count": null,
   "id": "b046f7d7",
   "metadata": {},
   "outputs": [],
   "source": [
    "data.Drug"
   ]
  },
  {
   "cell_type": "code",
   "execution_count": null,
   "id": "5e0ad4c3",
   "metadata": {},
   "outputs": [],
   "source": [
    "data.Sex.unique()"
   ]
  },
  {
   "cell_type": "code",
   "execution_count": null,
   "id": "9e953844",
   "metadata": {},
   "outputs": [],
   "source": [
    "data.columns"
   ]
  },
  {
   "cell_type": "code",
   "execution_count": null,
   "id": "2562efdb",
   "metadata": {},
   "outputs": [],
   "source": [
    "data.BP.unique()"
   ]
  },
  {
   "cell_type": "code",
   "execution_count": null,
   "id": "1421a337",
   "metadata": {},
   "outputs": [],
   "source": [
    "data.isna().sum()"
   ]
  },
  {
   "cell_type": "code",
   "execution_count": null,
   "id": "aa8fdd72",
   "metadata": {},
   "outputs": [],
   "source": [
    "data.Age.sort_values()"
   ]
  },
  {
   "cell_type": "code",
   "execution_count": null,
   "id": "fe94b8bb",
   "metadata": {},
   "outputs": [],
   "source": [
    "data.Age.value_counts()"
   ]
  },
  {
   "cell_type": "code",
   "execution_count": null,
   "id": "68904a95",
   "metadata": {},
   "outputs": [],
   "source": [
    "data.Age[data.Age<=20]"
   ]
  },
  {
   "cell_type": "code",
   "execution_count": null,
   "id": "97dd77c4",
   "metadata": {},
   "outputs": [],
   "source": [
    "data[(data.BP=='HIGH')]"
   ]
  },
  {
   "cell_type": "code",
   "execution_count": null,
   "id": "fca8669c",
   "metadata": {},
   "outputs": [],
   "source": [
    "data.Drug[(DATA.Drug=='DrugY')]"
   ]
  },
  {
   "cell_type": "code",
   "execution_count": null,
   "id": "0c0ad24c",
   "metadata": {},
   "outputs": [],
   "source": [
    "data.loc[3,'Cholesterol']"
   ]
  },
  {
   "cell_type": "code",
   "execution_count": null,
   "id": "d12447e5",
   "metadata": {},
   "outputs": [],
   "source": [
    "data.iloc[0:10,0:]"
   ]
  },
  {
   "cell_type": "code",
   "execution_count": null,
   "id": "51cd8b1f",
   "metadata": {},
   "outputs": [],
   "source": [
    "data[data.Sex=='F'].Na_to_K.mean()"
   ]
  },
  {
   "cell_type": "code",
   "execution_count": null,
   "id": "a6f3c37b",
   "metadata": {},
   "outputs": [],
   "source": [
    "data[data.Sex=='M'].Na_to_K.mean()"
   ]
  },
  {
   "cell_type": "code",
   "execution_count": null,
   "id": "fb00f6e3",
   "metadata": {},
   "outputs": [],
   "source": [
    "data[data['Na_to_K']==data['Na_to_K'].max()]"
   ]
  },
  {
   "cell_type": "code",
   "execution_count": null,
   "id": "cc8d82db",
   "metadata": {},
   "outputs": [],
   "source": [
    "data[data['Na_to_K']==data['Na_to_K'].min()]"
   ]
  },
  {
   "cell_type": "code",
   "execution_count": null,
   "id": "e3c8ece8",
   "metadata": {},
   "outputs": [],
   "source": [
    "data.groupby('Age').mean().Na_to_K"
   ]
  },
  {
   "cell_type": "code",
   "execution_count": null,
   "id": "3e4126f8",
   "metadata": {},
   "outputs": [],
   "source": [
    "data.groupby('Age').mean().plot(kind='bar')\n",
    "plt.show()"
   ]
  },
  {
   "cell_type": "code",
   "execution_count": null,
   "id": "f36a187c",
   "metadata": {},
   "outputs": [],
   "source": [
    "sns.countplot(data=data,x='Na_to_K')\n",
    "plt.grid(True)"
   ]
  },
  {
   "cell_type": "code",
   "execution_count": null,
   "id": "a44ca0bb",
   "metadata": {},
   "outputs": [],
   "source": [
    "sns.countplot(data=data,x='Drug',hue='BP')\n",
    "plt.show()"
   ]
  },
  {
   "cell_type": "code",
   "execution_count": null,
   "id": "2c63706c",
   "metadata": {},
   "outputs": [],
   "source": [
    "sns.heatmap(data.corr(),annot=True,cmap='Blues')\n",
    "plt.grid('True')\n",
    "plt.show()"
   ]
  },
  {
   "cell_type": "code",
   "execution_count": null,
   "id": "5fd0d7ea",
   "metadata": {},
   "outputs": [],
   "source": [
    "sns.countplot(data=data,x='Drug',hue='Cholesterol')\n",
    "plt.show()\n"
   ]
  },
  {
   "cell_type": "code",
   "execution_count": null,
   "id": "de07e642",
   "metadata": {},
   "outputs": [],
   "source": []
  }
 ],
 "metadata": {
  "kernelspec": {
   "display_name": "Python 3",
   "language": "python",
   "name": "python3"
  },
  "language_info": {
   "codemirror_mode": {
    "name": "ipython",
    "version": 3
   },
   "file_extension": ".py",
   "mimetype": "text/x-python",
   "name": "python",
   "nbconvert_exporter": "python",
   "pygments_lexer": "ipython3",
   "version": "3.8.8"
  }
 },
 "nbformat": 4,
 "nbformat_minor": 5
}
